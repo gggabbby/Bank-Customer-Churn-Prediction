{
 "cells": [
  {
   "cell_type": "code",
   "execution_count": 1,
   "metadata": {},
   "outputs": [],
   "source": [
    "# -- import packages --\n",
    "import pandas as pd\n",
    "import numpy as np\n",
    "import matplotlib.pyplot as plt\n",
    "import seaborn as sns\n",
    "from sklearn import model_selection\n",
    "import warnings\n",
    "\n",
    "warnings.filterwarnings('ignore')"
   ]
  },
  {
   "cell_type": "code",
   "execution_count": 2,
   "metadata": {},
   "outputs": [
    {
     "data": {
      "text/html": [
       "<div>\n",
       "<style scoped>\n",
       "    .dataframe tbody tr th:only-of-type {\n",
       "        vertical-align: middle;\n",
       "    }\n",
       "\n",
       "    .dataframe tbody tr th {\n",
       "        vertical-align: top;\n",
       "    }\n",
       "\n",
       "    .dataframe thead th {\n",
       "        text-align: right;\n",
       "    }\n",
       "</style>\n",
       "<table border=\"1\" class=\"dataframe\">\n",
       "  <thead>\n",
       "    <tr style=\"text-align: right;\">\n",
       "      <th></th>\n",
       "      <th>RowNumber</th>\n",
       "      <th>CustomerId</th>\n",
       "      <th>Surname</th>\n",
       "      <th>CreditScore</th>\n",
       "      <th>Geography</th>\n",
       "      <th>Gender</th>\n",
       "      <th>Age</th>\n",
       "      <th>Tenure</th>\n",
       "      <th>Balance</th>\n",
       "      <th>NumOfProducts</th>\n",
       "      <th>HasCrCard</th>\n",
       "      <th>IsActiveMember</th>\n",
       "      <th>EstimatedSalary</th>\n",
       "      <th>Exited</th>\n",
       "    </tr>\n",
       "  </thead>\n",
       "  <tbody>\n",
       "    <tr>\n",
       "      <th>0</th>\n",
       "      <td>1</td>\n",
       "      <td>15634602</td>\n",
       "      <td>Hargrave</td>\n",
       "      <td>619</td>\n",
       "      <td>France</td>\n",
       "      <td>Female</td>\n",
       "      <td>42</td>\n",
       "      <td>2</td>\n",
       "      <td>0.00</td>\n",
       "      <td>1</td>\n",
       "      <td>1</td>\n",
       "      <td>1</td>\n",
       "      <td>101348.88</td>\n",
       "      <td>1</td>\n",
       "    </tr>\n",
       "    <tr>\n",
       "      <th>1</th>\n",
       "      <td>2</td>\n",
       "      <td>15647311</td>\n",
       "      <td>Hill</td>\n",
       "      <td>608</td>\n",
       "      <td>Spain</td>\n",
       "      <td>Female</td>\n",
       "      <td>41</td>\n",
       "      <td>1</td>\n",
       "      <td>83807.86</td>\n",
       "      <td>1</td>\n",
       "      <td>0</td>\n",
       "      <td>1</td>\n",
       "      <td>112542.58</td>\n",
       "      <td>0</td>\n",
       "    </tr>\n",
       "    <tr>\n",
       "      <th>2</th>\n",
       "      <td>3</td>\n",
       "      <td>15619304</td>\n",
       "      <td>Onio</td>\n",
       "      <td>502</td>\n",
       "      <td>France</td>\n",
       "      <td>Female</td>\n",
       "      <td>42</td>\n",
       "      <td>8</td>\n",
       "      <td>159660.80</td>\n",
       "      <td>3</td>\n",
       "      <td>1</td>\n",
       "      <td>0</td>\n",
       "      <td>113931.57</td>\n",
       "      <td>1</td>\n",
       "    </tr>\n",
       "    <tr>\n",
       "      <th>3</th>\n",
       "      <td>4</td>\n",
       "      <td>15701354</td>\n",
       "      <td>Boni</td>\n",
       "      <td>699</td>\n",
       "      <td>France</td>\n",
       "      <td>Female</td>\n",
       "      <td>39</td>\n",
       "      <td>1</td>\n",
       "      <td>0.00</td>\n",
       "      <td>2</td>\n",
       "      <td>0</td>\n",
       "      <td>0</td>\n",
       "      <td>93826.63</td>\n",
       "      <td>0</td>\n",
       "    </tr>\n",
       "    <tr>\n",
       "      <th>4</th>\n",
       "      <td>5</td>\n",
       "      <td>15737888</td>\n",
       "      <td>Mitchell</td>\n",
       "      <td>850</td>\n",
       "      <td>Spain</td>\n",
       "      <td>Female</td>\n",
       "      <td>43</td>\n",
       "      <td>2</td>\n",
       "      <td>125510.82</td>\n",
       "      <td>1</td>\n",
       "      <td>1</td>\n",
       "      <td>1</td>\n",
       "      <td>79084.10</td>\n",
       "      <td>0</td>\n",
       "    </tr>\n",
       "  </tbody>\n",
       "</table>\n",
       "</div>"
      ],
      "text/plain": [
       "   RowNumber  CustomerId   Surname  CreditScore Geography  Gender  Age  \\\n",
       "0          1    15634602  Hargrave          619    France  Female   42   \n",
       "1          2    15647311      Hill          608     Spain  Female   41   \n",
       "2          3    15619304      Onio          502    France  Female   42   \n",
       "3          4    15701354      Boni          699    France  Female   39   \n",
       "4          5    15737888  Mitchell          850     Spain  Female   43   \n",
       "\n",
       "   Tenure    Balance  NumOfProducts  HasCrCard  IsActiveMember  \\\n",
       "0       2       0.00              1          1               1   \n",
       "1       1   83807.86              1          0               1   \n",
       "2       8  159660.80              3          1               0   \n",
       "3       1       0.00              2          0               0   \n",
       "4       2  125510.82              1          1               1   \n",
       "\n",
       "   EstimatedSalary  Exited  \n",
       "0        101348.88       1  \n",
       "1        112542.58       0  \n",
       "2        113931.57       1  \n",
       "3         93826.63       0  \n",
       "4         79084.10       0  "
      ]
     },
     "execution_count": 2,
     "metadata": {},
     "output_type": "execute_result"
    }
   ],
   "source": [
    "# -- import dataset --\n",
    "churn_df = pd.read_csv('bank_data.csv')\n",
    "churn_df.head()"
   ]
  },
  {
   "cell_type": "markdown",
   "metadata": {},
   "source": [
    "## Part 1 - Data Exploration\n",
    "### Check details in file \"churn-predict\"\n",
    "### \n",
    "\n",
    "## Part 2 - feature preprocessing"
   ]
  },
  {
   "cell_type": "code",
   "execution_count": 3,
   "metadata": {},
   "outputs": [],
   "source": [
    "# ordinal encoding\n",
    "churn_df['Gender'] = churn_df['Gender'] == 'Female'"
   ]
  },
  {
   "cell_type": "code",
   "execution_count": 4,
   "metadata": {},
   "outputs": [],
   "source": [
    "# one hot encoding\n",
    "churn_df = pd.get_dummies(churn_df, columns=['Geography'], drop_first=True)"
   ]
  },
  {
   "cell_type": "code",
   "execution_count": 5,
   "metadata": {},
   "outputs": [],
   "source": [
    "# Get feature space by dropping useless feature\n",
    "to_drop = ['RowNumber','CustomerId','Surname','Exited']\n",
    "X = churn_df.drop(to_drop, axis=1)"
   ]
  },
  {
   "cell_type": "code",
   "execution_count": 6,
   "metadata": {},
   "outputs": [
    {
     "data": {
      "text/html": [
       "<div>\n",
       "<style scoped>\n",
       "    .dataframe tbody tr th:only-of-type {\n",
       "        vertical-align: middle;\n",
       "    }\n",
       "\n",
       "    .dataframe tbody tr th {\n",
       "        vertical-align: top;\n",
       "    }\n",
       "\n",
       "    .dataframe thead th {\n",
       "        text-align: right;\n",
       "    }\n",
       "</style>\n",
       "<table border=\"1\" class=\"dataframe\">\n",
       "  <thead>\n",
       "    <tr style=\"text-align: right;\">\n",
       "      <th></th>\n",
       "      <th>CreditScore</th>\n",
       "      <th>Gender</th>\n",
       "      <th>Age</th>\n",
       "      <th>Tenure</th>\n",
       "      <th>Balance</th>\n",
       "      <th>NumOfProducts</th>\n",
       "      <th>HasCrCard</th>\n",
       "      <th>IsActiveMember</th>\n",
       "      <th>EstimatedSalary</th>\n",
       "      <th>Geography_Germany</th>\n",
       "      <th>Geography_Spain</th>\n",
       "    </tr>\n",
       "  </thead>\n",
       "  <tbody>\n",
       "    <tr>\n",
       "      <th>0</th>\n",
       "      <td>619</td>\n",
       "      <td>True</td>\n",
       "      <td>42</td>\n",
       "      <td>2</td>\n",
       "      <td>0.00</td>\n",
       "      <td>1</td>\n",
       "      <td>1</td>\n",
       "      <td>1</td>\n",
       "      <td>101348.88</td>\n",
       "      <td>0</td>\n",
       "      <td>0</td>\n",
       "    </tr>\n",
       "    <tr>\n",
       "      <th>1</th>\n",
       "      <td>608</td>\n",
       "      <td>True</td>\n",
       "      <td>41</td>\n",
       "      <td>1</td>\n",
       "      <td>83807.86</td>\n",
       "      <td>1</td>\n",
       "      <td>0</td>\n",
       "      <td>1</td>\n",
       "      <td>112542.58</td>\n",
       "      <td>0</td>\n",
       "      <td>1</td>\n",
       "    </tr>\n",
       "    <tr>\n",
       "      <th>2</th>\n",
       "      <td>502</td>\n",
       "      <td>True</td>\n",
       "      <td>42</td>\n",
       "      <td>8</td>\n",
       "      <td>159660.80</td>\n",
       "      <td>3</td>\n",
       "      <td>1</td>\n",
       "      <td>0</td>\n",
       "      <td>113931.57</td>\n",
       "      <td>0</td>\n",
       "      <td>0</td>\n",
       "    </tr>\n",
       "    <tr>\n",
       "      <th>3</th>\n",
       "      <td>699</td>\n",
       "      <td>True</td>\n",
       "      <td>39</td>\n",
       "      <td>1</td>\n",
       "      <td>0.00</td>\n",
       "      <td>2</td>\n",
       "      <td>0</td>\n",
       "      <td>0</td>\n",
       "      <td>93826.63</td>\n",
       "      <td>0</td>\n",
       "      <td>0</td>\n",
       "    </tr>\n",
       "    <tr>\n",
       "      <th>4</th>\n",
       "      <td>850</td>\n",
       "      <td>True</td>\n",
       "      <td>43</td>\n",
       "      <td>2</td>\n",
       "      <td>125510.82</td>\n",
       "      <td>1</td>\n",
       "      <td>1</td>\n",
       "      <td>1</td>\n",
       "      <td>79084.10</td>\n",
       "      <td>0</td>\n",
       "      <td>1</td>\n",
       "    </tr>\n",
       "    <tr>\n",
       "      <th>5</th>\n",
       "      <td>645</td>\n",
       "      <td>False</td>\n",
       "      <td>44</td>\n",
       "      <td>8</td>\n",
       "      <td>113755.78</td>\n",
       "      <td>2</td>\n",
       "      <td>1</td>\n",
       "      <td>0</td>\n",
       "      <td>149756.71</td>\n",
       "      <td>0</td>\n",
       "      <td>1</td>\n",
       "    </tr>\n",
       "    <tr>\n",
       "      <th>6</th>\n",
       "      <td>822</td>\n",
       "      <td>False</td>\n",
       "      <td>50</td>\n",
       "      <td>7</td>\n",
       "      <td>0.00</td>\n",
       "      <td>2</td>\n",
       "      <td>1</td>\n",
       "      <td>1</td>\n",
       "      <td>10062.80</td>\n",
       "      <td>0</td>\n",
       "      <td>0</td>\n",
       "    </tr>\n",
       "    <tr>\n",
       "      <th>7</th>\n",
       "      <td>376</td>\n",
       "      <td>True</td>\n",
       "      <td>29</td>\n",
       "      <td>4</td>\n",
       "      <td>115046.74</td>\n",
       "      <td>4</td>\n",
       "      <td>1</td>\n",
       "      <td>0</td>\n",
       "      <td>119346.88</td>\n",
       "      <td>1</td>\n",
       "      <td>0</td>\n",
       "    </tr>\n",
       "    <tr>\n",
       "      <th>8</th>\n",
       "      <td>501</td>\n",
       "      <td>False</td>\n",
       "      <td>44</td>\n",
       "      <td>4</td>\n",
       "      <td>142051.07</td>\n",
       "      <td>2</td>\n",
       "      <td>0</td>\n",
       "      <td>1</td>\n",
       "      <td>74940.50</td>\n",
       "      <td>0</td>\n",
       "      <td>0</td>\n",
       "    </tr>\n",
       "    <tr>\n",
       "      <th>9</th>\n",
       "      <td>684</td>\n",
       "      <td>False</td>\n",
       "      <td>27</td>\n",
       "      <td>2</td>\n",
       "      <td>134603.88</td>\n",
       "      <td>1</td>\n",
       "      <td>1</td>\n",
       "      <td>1</td>\n",
       "      <td>71725.73</td>\n",
       "      <td>0</td>\n",
       "      <td>0</td>\n",
       "    </tr>\n",
       "  </tbody>\n",
       "</table>\n",
       "</div>"
      ],
      "text/plain": [
       "   CreditScore  Gender  Age  Tenure    Balance  NumOfProducts  HasCrCard  \\\n",
       "0          619    True   42       2       0.00              1          1   \n",
       "1          608    True   41       1   83807.86              1          0   \n",
       "2          502    True   42       8  159660.80              3          1   \n",
       "3          699    True   39       1       0.00              2          0   \n",
       "4          850    True   43       2  125510.82              1          1   \n",
       "5          645   False   44       8  113755.78              2          1   \n",
       "6          822   False   50       7       0.00              2          1   \n",
       "7          376    True   29       4  115046.74              4          1   \n",
       "8          501   False   44       4  142051.07              2          0   \n",
       "9          684   False   27       2  134603.88              1          1   \n",
       "\n",
       "   IsActiveMember  EstimatedSalary  Geography_Germany  Geography_Spain  \n",
       "0               1        101348.88                  0                0  \n",
       "1               1        112542.58                  0                1  \n",
       "2               0        113931.57                  0                0  \n",
       "3               0         93826.63                  0                0  \n",
       "4               1         79084.10                  0                1  \n",
       "5               0        149756.71                  0                1  \n",
       "6               1         10062.80                  0                0  \n",
       "7               0        119346.88                  1                0  \n",
       "8               1         74940.50                  0                0  \n",
       "9               1         71725.73                  0                0  "
      ]
     },
     "execution_count": 6,
     "metadata": {},
     "output_type": "execute_result"
    }
   ],
   "source": [
    "X.head(10)"
   ]
  },
  {
   "cell_type": "code",
   "execution_count": 7,
   "metadata": {},
   "outputs": [],
   "source": [
    "# get target variable\n",
    "y = churn_df['Exited']"
   ]
  },
  {
   "cell_type": "markdown",
   "metadata": {},
   "source": [
    "## Part 3 - Model Training and Result Evaluation \n",
    "### 3.1 split dataset"
   ]
  },
  {
   "cell_type": "code",
   "execution_count": 8,
   "metadata": {
    "scrolled": true
   },
   "outputs": [
    {
     "name": "stdout",
     "output_type": "stream",
     "text": [
      "training data has 7500 observation with 11 features\n",
      "test data has 2500 observation with 11 features\n"
     ]
    }
   ],
   "source": [
    "# Reserve 20% for testing\n",
    "X_train, X_test, y_train, y_test = model_selection.train_test_split(X, y, test_size=0.25, stratify = y, random_state=1)\n",
    "\n",
    "print('training data has ' + str(X_train.shape[0]) + ' observation with ' + str(X_train.shape[1]) + ' features')\n",
    "print('test data has ' + str(X_test.shape[0]) + ' observation with ' + str(X_test.shape[1]) + ' features')"
   ]
  },
  {
   "cell_type": "markdown",
   "metadata": {},
   "source": [
    "### 3.2 model training and selection "
   ]
  },
  {
   "cell_type": "code",
   "execution_count": 9,
   "metadata": {},
   "outputs": [],
   "source": [
    "# import packages \n",
    "from sklearn.pipeline import Pipeline\n",
    "from sklearn.preprocessing import StandardScaler\n",
    "from sklearn.model_selection import GridSearchCV\n",
    "\n",
    "\n",
    "# define helper function to get result\n",
    "def print_grid_search_metrics(gs):\n",
    "    print (\"Best score: \" + str(gs.best_score_))\n",
    "    print (\"Best parameters set:\")\n",
    "    best_parameters = gs.best_params_\n",
    "    for param_name in sorted(best_parameters.keys()):\n",
    "        print(param_name + ':' + str(best_parameters[param_name]))"
   ]
  },
  {
   "cell_type": "markdown",
   "metadata": {},
   "source": [
    "### 3.2.1 LogisticRegression"
   ]
  },
  {
   "cell_type": "code",
   "execution_count": 10,
   "metadata": {},
   "outputs": [
    {
     "name": "stdout",
     "output_type": "stream",
     "text": [
      "Test accuracy: 0.808\n"
     ]
    }
   ],
   "source": [
    "from sklearn.linear_model import LogisticRegression\n",
    "\n",
    "# use pipline to train LR model\n",
    "pipe_lr = Pipeline([('sc', StandardScaler()),\n",
    "                    ('clf', LogisticRegression(random_state=1))\n",
    "                    ])\n",
    "pipe_lr.fit(X_train, y_train)\n",
    "print('Test accuracy: %.3f' % pipe_lr.score(X_test, y_test))"
   ]
  },
  {
   "cell_type": "code",
   "execution_count": 11,
   "metadata": {},
   "outputs": [
    {
     "data": {
      "text/plain": [
       "dict_keys(['memory', 'steps', 'verbose', 'sc', 'clf', 'sc__copy', 'sc__with_mean', 'sc__with_std', 'clf__C', 'clf__class_weight', 'clf__dual', 'clf__fit_intercept', 'clf__intercept_scaling', 'clf__l1_ratio', 'clf__max_iter', 'clf__multi_class', 'clf__n_jobs', 'clf__penalty', 'clf__random_state', 'clf__solver', 'clf__tol', 'clf__verbose', 'clf__warm_start'])"
      ]
     },
     "execution_count": 11,
     "metadata": {},
     "output_type": "execute_result"
    }
   ],
   "source": [
    "# check details of params.keys\n",
    "pipe_lr.get_params().keys()"
   ]
  },
  {
   "cell_type": "markdown",
   "metadata": {},
   "source": [
    "### - Tuning the hyper-parameters of Logistic Regression\n",
    "#### - [sklearn.linear_model.LogisticRegression](https://scikit-learn.org/stable/modules/generated/sklearn.linear_model.LogisticRegression.html)"
   ]
  },
  {
   "cell_type": "code",
   "execution_count": 12,
   "metadata": {},
   "outputs": [
    {
     "name": "stdout",
     "output_type": "stream",
     "text": [
      "Best score: 0.8124\n",
      "Best parameters set:\n",
      "clf__C:1\n",
      "clf__penalty:l2\n"
     ]
    }
   ],
   "source": [
    "\n",
    "# The ‘newton-cg’, ‘sag’, and ‘lbfgs’ solvers support only L2 regularization \n",
    "# with primal formulation, or no regularization. The ‘liblinear’ solver supports \n",
    "# both L1 and L2 regularization, with a dual formulation only for the L2 penalty. \n",
    "# The Elastic-Net regularization is only supported by the ‘saga’ solver.\n",
    "\n",
    "\n",
    "pipe_lr = Pipeline([('sc', StandardScaler()),\n",
    "                    ('clf', LogisticRegression(solver='liblinear')) \n",
    "                    ])\n",
    "\n",
    "parameters = {\n",
    "    'clf__penalty':('l1', 'l2'), \n",
    "    'clf__C':[0.000001, 0.00001, 0.0001, 0.001, 0.01, 0.1, 1, 10]\n",
    "}\n",
    "\n",
    "search_lr = GridSearchCV(estimator = pipe_lr,\n",
    "                         param_grid = parameters,\n",
    "                         cv = 5, # cross-validation generator\n",
    "                         return_train_score = True)\n",
    "search_lr.fit(X_train, y_train)\n",
    "\n",
    "print_grid_search_metrics(search_lr)"
   ]
  },
  {
   "cell_type": "code",
   "execution_count": 13,
   "metadata": {},
   "outputs": [
    {
     "data": {
      "text/plain": [
       "dict_keys(['mean_fit_time', 'std_fit_time', 'mean_score_time', 'std_score_time', 'param_clf__C', 'param_clf__penalty', 'params', 'split0_test_score', 'split1_test_score', 'split2_test_score', 'split3_test_score', 'split4_test_score', 'mean_test_score', 'std_test_score', 'rank_test_score', 'split0_train_score', 'split1_train_score', 'split2_train_score', 'split3_train_score', 'split4_train_score', 'mean_train_score', 'std_train_score'])"
      ]
     },
     "execution_count": 13,
     "metadata": {},
     "output_type": "execute_result"
    }
   ],
   "source": [
    "search_lr.cv_results_.keys()"
   ]
  },
  {
   "cell_type": "code",
   "execution_count": 14,
   "metadata": {},
   "outputs": [
    {
     "data": {
      "text/plain": [
       "{'mean_fit_time': array([0.01830888, 0.01785016, 0.01758151, 0.01899495, 0.01718926,\n",
       "        0.01584144, 0.01492219, 0.01602082, 0.01708202, 0.01605735,\n",
       "        0.01783619, 0.01690845, 0.01860819, 0.01717644, 0.01763649,\n",
       "        0.01658359]),\n",
       " 'std_fit_time': array([0.0012893 , 0.0012633 , 0.00139351, 0.00066197, 0.001293  ,\n",
       "        0.00073732, 0.00027117, 0.0001357 , 0.00077999, 0.00011248,\n",
       "        0.00015616, 0.00017036, 0.00058627, 0.00069016, 0.0002993 ,\n",
       "        0.00035357]),\n",
       " 'mean_score_time': array([0.00425587, 0.00376382, 0.00374389, 0.00363522, 0.00355263,\n",
       "        0.00321059, 0.00314684, 0.00283451, 0.0029963 , 0.00282869,\n",
       "        0.00291538, 0.00288801, 0.00307841, 0.00289435, 0.00280571,\n",
       "        0.00280471]),\n",
       " 'std_score_time': array([3.73789683e-04, 1.36016376e-04, 7.05560831e-04, 3.84353774e-04,\n",
       "        3.27901620e-04, 2.72706810e-04, 3.62373885e-04, 2.15292901e-05,\n",
       "        2.15697466e-04, 6.21206642e-05, 1.00162480e-04, 1.09624064e-04,\n",
       "        1.51485499e-04, 6.73542234e-05, 8.31120464e-06, 3.73693725e-05]),\n",
       " 'param_clf__C': masked_array(data=[1e-06, 1e-06, 1e-05, 1e-05, 0.0001, 0.0001, 0.001,\n",
       "                    0.001, 0.01, 0.01, 0.1, 0.1, 1, 1, 10, 10],\n",
       "              mask=[False, False, False, False, False, False, False, False,\n",
       "                    False, False, False, False, False, False, False, False],\n",
       "        fill_value='?',\n",
       "             dtype=object),\n",
       " 'param_clf__penalty': masked_array(data=['l1', 'l2', 'l1', 'l2', 'l1', 'l2', 'l1', 'l2', 'l1',\n",
       "                    'l2', 'l1', 'l2', 'l1', 'l2', 'l1', 'l2'],\n",
       "              mask=[False, False, False, False, False, False, False, False,\n",
       "                    False, False, False, False, False, False, False, False],\n",
       "        fill_value='?',\n",
       "             dtype=object),\n",
       " 'params': [{'clf__C': 1e-06, 'clf__penalty': 'l1'},\n",
       "  {'clf__C': 1e-06, 'clf__penalty': 'l2'},\n",
       "  {'clf__C': 1e-05, 'clf__penalty': 'l1'},\n",
       "  {'clf__C': 1e-05, 'clf__penalty': 'l2'},\n",
       "  {'clf__C': 0.0001, 'clf__penalty': 'l1'},\n",
       "  {'clf__C': 0.0001, 'clf__penalty': 'l2'},\n",
       "  {'clf__C': 0.001, 'clf__penalty': 'l1'},\n",
       "  {'clf__C': 0.001, 'clf__penalty': 'l2'},\n",
       "  {'clf__C': 0.01, 'clf__penalty': 'l1'},\n",
       "  {'clf__C': 0.01, 'clf__penalty': 'l2'},\n",
       "  {'clf__C': 0.1, 'clf__penalty': 'l1'},\n",
       "  {'clf__C': 0.1, 'clf__penalty': 'l2'},\n",
       "  {'clf__C': 1, 'clf__penalty': 'l1'},\n",
       "  {'clf__C': 1, 'clf__penalty': 'l2'},\n",
       "  {'clf__C': 10, 'clf__penalty': 'l1'},\n",
       "  {'clf__C': 10, 'clf__penalty': 'l2'}],\n",
       " 'split0_test_score': array([0.79666667, 0.81333333, 0.79666667, 0.814     , 0.79666667,\n",
       "        0.81266667, 0.79666667, 0.814     , 0.808     , 0.82      ,\n",
       "        0.82066667, 0.81933333, 0.81933333, 0.81933333, 0.81933333,\n",
       "        0.81933333]),\n",
       " 'split1_test_score': array([0.79666667, 0.80266667, 0.79666667, 0.80333333, 0.79666667,\n",
       "        0.80466667, 0.79666667, 0.80333333, 0.8       , 0.80666667,\n",
       "        0.808     , 0.806     , 0.80666667, 0.80666667, 0.80666667,\n",
       "        0.80666667]),\n",
       " 'split2_test_score': array([0.796     , 0.79933333, 0.796     , 0.8       , 0.796     ,\n",
       "        0.80266667, 0.796     , 0.804     , 0.79866667, 0.80466667,\n",
       "        0.80533333, 0.80666667, 0.80666667, 0.80666667, 0.80666667,\n",
       "        0.80666667]),\n",
       " 'split3_test_score': array([0.796     , 0.81133333, 0.796     , 0.81133333, 0.796     ,\n",
       "        0.81066667, 0.796     , 0.80666667, 0.80533333, 0.81066667,\n",
       "        0.80866667, 0.80933333, 0.80866667, 0.80933333, 0.80933333,\n",
       "        0.80933333]),\n",
       " 'split4_test_score': array([0.796     , 0.812     , 0.796     , 0.812     , 0.796     ,\n",
       "        0.814     , 0.796     , 0.81533333, 0.80733333, 0.81866667,\n",
       "        0.81866667, 0.81866667, 0.82      , 0.82      , 0.82      ,\n",
       "        0.82      ]),\n",
       " 'mean_test_score': array([0.79626667, 0.80773333, 0.79626667, 0.80813333, 0.79626667,\n",
       "        0.80893333, 0.79626667, 0.80866667, 0.80386667, 0.81213333,\n",
       "        0.81226667, 0.812     , 0.81226667, 0.8124    , 0.8124    ,\n",
       "        0.8124    ]),\n",
       " 'std_test_score': array([0.0003266 , 0.00563481, 0.0003266 , 0.00545527, 0.0003266 ,\n",
       "        0.00447412, 0.0003266 , 0.00504205, 0.00382739, 0.00620251,\n",
       "        0.00617666, 0.00582714, 0.0060897 , 0.00601627, 0.00601627,\n",
       "        0.00601627]),\n",
       " 'rank_test_score': array([13, 11, 13, 10, 13,  8, 13,  9, 12,  6,  4,  7,  4,  1,  1,  1],\n",
       "       dtype=int32),\n",
       " 'split0_train_score': array([0.79616667, 0.80683333, 0.79616667, 0.80766667, 0.79616667,\n",
       "        0.8075    , 0.79616667, 0.808     , 0.8025    , 0.809     ,\n",
       "        0.80966667, 0.81033333, 0.81      , 0.81033333, 0.81033333,\n",
       "        0.81033333]),\n",
       " 'split1_train_score': array([0.79616667, 0.80933333, 0.79616667, 0.80933333, 0.79616667,\n",
       "        0.81      , 0.79616667, 0.81016667, 0.80416667, 0.81333333,\n",
       "        0.81316667, 0.8135    , 0.81383333, 0.81366667, 0.81366667,\n",
       "        0.8135    ]),\n",
       " 'split2_train_score': array([0.79633333, 0.81083333, 0.79633333, 0.811     , 0.79633333,\n",
       "        0.81016667, 0.79633333, 0.80983333, 0.80416667, 0.81283333,\n",
       "        0.81266667, 0.8125    , 0.81233333, 0.81266667, 0.81266667,\n",
       "        0.81266667]),\n",
       " 'split3_train_score': array([0.79633333, 0.8075    , 0.79633333, 0.8075    , 0.79633333,\n",
       "        0.80916667, 0.79633333, 0.811     , 0.804     , 0.81183333,\n",
       "        0.81266667, 0.81233333, 0.81216667, 0.81216667, 0.81216667,\n",
       "        0.81216667]),\n",
       " 'split4_train_score': array([0.79633333, 0.80833333, 0.79633333, 0.80816667, 0.79633333,\n",
       "        0.80716667, 0.79633333, 0.80733333, 0.80266667, 0.81083333,\n",
       "        0.80966667, 0.809     , 0.80933333, 0.80933333, 0.80933333,\n",
       "        0.80933333]),\n",
       " 'mean_train_score': array([0.79626667, 0.80856667, 0.79626667, 0.80873333, 0.79626667,\n",
       "        0.8088    , 0.79626667, 0.80926667, 0.8035    , 0.81156667,\n",
       "        0.81156667, 0.81153333, 0.81153333, 0.81163333, 0.81163333,\n",
       "        0.8116    ]),\n",
       " 'std_train_score': array([8.16496581e-05, 1.40870311e-03, 8.16496581e-05, 1.30213500e-03,\n",
       "        8.16496581e-05, 1.24899960e-03, 8.16496581e-05, 1.37679176e-03,\n",
       "        7.52772653e-04, 1.54416464e-03, 1.56204994e-03, 1.63095064e-03,\n",
       "        1.64451952e-03, 1.57902924e-03, 1.57902924e-03, 1.53695225e-03])}"
      ]
     },
     "execution_count": 14,
     "metadata": {},
     "output_type": "execute_result"
    }
   ],
   "source": [
    "search_lr.cv_results_"
   ]
  },
  {
   "cell_type": "code",
   "execution_count": 15,
   "metadata": {},
   "outputs": [
    {
     "name": "stdout",
     "output_type": "stream",
     "text": [
      "Best score: 0.8134666666666666\n",
      "Best parameters set:\n",
      "clf__C:0.1\n",
      "clf__penalty:l1\n"
     ]
    }
   ],
   "source": [
    "# LR without standard\n",
    "pipe_lr_2 = Pipeline([\n",
    "                    ('clf', LogisticRegression(solver='liblinear')) \n",
    "                    ])\n",
    "\n",
    "parameters = {\n",
    "    'clf__penalty':('l1', 'l2'), \n",
    "    'clf__C':[0.000001, 0.00001, 0.0001, 0.001, 0.01, 0.1, 1, 10]\n",
    "}\n",
    "\n",
    "search_lr_2 = GridSearchCV(estimator = pipe_lr_2,\n",
    "                         param_grid = parameters,\n",
    "                         cv = 5, # cross-validation generator\n",
    "                         return_train_score = True)\n",
    "search_lr_2.fit(X_train, y_train)\n",
    "\n",
    "print_grid_search_metrics(search_lr_2)"
   ]
  },
  {
   "cell_type": "markdown",
   "metadata": {},
   "source": [
    "### - define function to plot grid_search result"
   ]
  },
  {
   "cell_type": "code",
   "execution_count": 16,
   "metadata": {},
   "outputs": [],
   "source": [
    "def plot_grid_search(cv_results, grid_param_1, grid_param_2, name_param_1, name_param_2, name_param_3):\n",
    "    # Get Test Scores Mean and std for each grid search\n",
    "    scores_mean = cv_results['mean_test_score']\n",
    "    scores_mean = np.array(scores_mean).reshape(len(grid_param_2),len(grid_param_1))\n",
    "\n",
    "    scores_sd = cv_results['std_test_score']\n",
    "    scores_sd = np.array(scores_sd).reshape(len(grid_param_2),len(grid_param_1))\n",
    "    \n",
    "#     print(\"scores_sd:\", scores_sd, \"\\n scores_mean:\", scores_mean)\n",
    "\n",
    "    # Plot Grid search scores\n",
    "    _, ax = plt.subplots(1,1)\n",
    "\n",
    "    # Param1 is the X-axis, Param 2 is represented as a different curve (color line)\n",
    "    for idx, val in enumerate(grid_param_2):\n",
    "        ax.plot(grid_param_1, scores_mean[idx,:], '-o', label= name_param_2 + ': ' + str(val))\n",
    "    \n",
    "    ax.set_xscale('log') \n",
    "    ax.set_title(\"LR Grid Search Scores \" + name_param_3, fontsize=20, fontweight='bold')\n",
    "    ax.set_xlabel(name_param_1, fontsize=16)\n",
    "    \n",
    "    ax.set_ylabel('CV Average Score', fontsize=16)\n",
    "    \n",
    "    plt.legend(bbox_to_anchor=(1.05, 1), loc='upper left', fontsize=10)\n",
    "    ax.grid('on')"
   ]
  },
  {
   "cell_type": "code",
   "execution_count": 17,
   "metadata": {
    "scrolled": true
   },
   "outputs": [
    {
     "data": {
      "image/png": "[encoded data removed]",
      "text/plain": [
       "<Figure size 432x288 with 1 Axes>"
      ]
     },
     "metadata": {
      "needs_background": "light"
     },
     "output_type": "display_data"
    }
   ],
   "source": [
    "# Calling Method to plot_grid_search\n",
    "\n",
    "clf__C = [0.000001, 0.00001, 0.0001, 0.001, 0.01, 0.1, 1, 10]\n",
    "clf__penalty = ['l1', 'l2']\n",
    "\n",
    "\n",
    "plot_grid_search(search_lr.cv_results_, \n",
    "                 clf__C, \n",
    "                 clf__penalty, \n",
    "                 'clf__C', \n",
    "                 'clf__penalty',\n",
    "                 'with standard')\n",
    "\n",
    "\n",
    "\n"
   ]
  },
  {
   "cell_type": "code",
   "execution_count": 18,
   "metadata": {},
   "outputs": [
    {
     "data": {
      "image/png": "[encoded data removed]",
      "text/plain": [
       "<Figure size 432x288 with 1 Axes>"
      ]
     },
     "metadata": {
      "needs_background": "light"
     },
     "output_type": "display_data"
    }
   ],
   "source": [
    "# Calling Method to plot_grid_search\n",
    "\n",
    "clf__C = [0.000001, 0.00001, 0.0001, 0.001, 0.01, 0.1, 1, 10]\n",
    "clf__penalty = ['l1', 'l2']\n",
    "\n",
    "\n",
    "plot_grid_search(search_lr_2.cv_results_, \n",
    "                 clf__C, \n",
    "                 clf__penalty, \n",
    "                 'clf__C', \n",
    "                 'clf__penalty',\n",
    "                 'without standard')\n",
    "\n"
   ]
  },
  {
   "cell_type": "code",
   "execution_count": 19,
   "metadata": {},
   "outputs": [],
   "source": [
    "# save best LR model\n",
    "best_LR_model = search_lr.best_estimator_"
   ]
  },
  {
   "cell_type": "markdown",
   "metadata": {},
   "source": [
    "### 3.2.2 K Neighbors Classifier"
   ]
  },
  {
   "cell_type": "code",
   "execution_count": 20,
   "metadata": {},
   "outputs": [
    {
     "name": "stdout",
     "output_type": "stream",
     "text": [
      "Test accuracy: 0.827\n"
     ]
    }
   ],
   "source": [
    "from sklearn.neighbors import KNeighborsClassifier \n",
    "\n",
    "# use pipline to train KNeighbors model\n",
    "pipe_knn = Pipeline([('sc', StandardScaler()),\n",
    "                    ('clf', KNeighborsClassifier())\n",
    "                    ])\n",
    "pipe_knn.fit(X_train, y_train)\n",
    "print('Test accuracy: %.3f' % pipe_knn.score(X_test, y_test))"
   ]
  },
  {
   "cell_type": "code",
   "execution_count": 21,
   "metadata": {},
   "outputs": [
    {
     "data": {
      "text/plain": [
       "dict_keys(['memory', 'steps', 'verbose', 'sc', 'clf', 'sc__copy', 'sc__with_mean', 'sc__with_std', 'clf__algorithm', 'clf__leaf_size', 'clf__metric', 'clf__metric_params', 'clf__n_jobs', 'clf__n_neighbors', 'clf__p', 'clf__weights'])"
      ]
     },
     "execution_count": 21,
     "metadata": {},
     "output_type": "execute_result"
    }
   ],
   "source": [
    "# check details of KNN params.keys\n",
    "pipe_knn.get_params().keys()"
   ]
  },
  {
   "cell_type": "markdown",
   "metadata": {},
   "source": [
    "### - Tuning the hyper-parameters of K Neighbors\n",
    "#### - [sklearn.neighbors.KNeighborsClassifier](https://scikit-learn.org/stable/modules/generated/sklearn.neighbors.KNeighborsClassifier.html#sklearn.neighbors.KNeighborsClassifier)"
   ]
  },
  {
   "cell_type": "code",
   "execution_count": 22,
   "metadata": {},
   "outputs": [
    {
     "name": "stdout",
     "output_type": "stream",
     "text": [
      "Best score: 0.8354666666666667\n",
      "Best parameters set:\n",
      "clf__n_neighbors:13\n"
     ]
    }
   ],
   "source": [
    "# knn with StandardScaler\n",
    "pipe_knn = Pipeline([('sc', StandardScaler()),\n",
    "                    ('clf', KNeighborsClassifier()) \n",
    "                    ])\n",
    "\n",
    "parameters = {\n",
    "    'clf__n_neighbors': np.arange(1,25,3)\n",
    "}\n",
    "\n",
    "search_knn = GridSearchCV(estimator = pipe_knn,\n",
    "                         param_grid = parameters,\n",
    "                         cv = 5, # cross-validation generator\n",
    "                         return_train_score = True)\n",
    "search_knn.fit(X_train, y_train)\n",
    "\n",
    "print_grid_search_metrics(search_knn)"
   ]
  },
  {
   "cell_type": "code",
   "execution_count": 23,
   "metadata": {},
   "outputs": [
    {
     "data": {
      "text/plain": [
       "{'mean_fit_time': array([0.0143292 , 0.01370883, 0.01372938, 0.01371922, 0.01350455,\n",
       "        0.01366968, 0.01364322, 0.01364622]),\n",
       " 'std_fit_time': array([0.0016911 , 0.00018917, 0.00030413, 0.000383  , 0.00020558,\n",
       "        0.00044451, 0.00013687, 0.0002113 ]),\n",
       " 'mean_score_time': array([0.06753383, 0.09594679, 0.10998716, 0.12191243, 0.13155165,\n",
       "        0.13926244, 0.1462533 , 0.15346265]),\n",
       " 'std_score_time': array([0.00152522, 0.00079707, 0.00147843, 0.00204954, 0.00159073,\n",
       "        0.00214257, 0.0019058 , 0.00274426]),\n",
       " 'param_clf__n_neighbors': masked_array(data=[1, 4, 7, 10, 13, 16, 19, 22],\n",
       "              mask=[False, False, False, False, False, False, False, False],\n",
       "        fill_value='?',\n",
       "             dtype=object),\n",
       " 'params': [{'clf__n_neighbors': 1},\n",
       "  {'clf__n_neighbors': 4},\n",
       "  {'clf__n_neighbors': 7},\n",
       "  {'clf__n_neighbors': 10},\n",
       "  {'clf__n_neighbors': 13},\n",
       "  {'clf__n_neighbors': 16},\n",
       "  {'clf__n_neighbors': 19},\n",
       "  {'clf__n_neighbors': 22}],\n",
       " 'split0_test_score': array([0.804     , 0.82533333, 0.832     , 0.84066667, 0.84666667,\n",
       "        0.84466667, 0.846     , 0.84333333]),\n",
       " 'split1_test_score': array([0.80333333, 0.828     , 0.834     , 0.836     , 0.83666667,\n",
       "        0.83      , 0.82933333, 0.82666667]),\n",
       " 'split2_test_score': array([0.768     , 0.81466667, 0.824     , 0.818     , 0.828     ,\n",
       "        0.82666667, 0.83      , 0.82533333]),\n",
       " 'split3_test_score': array([0.78333333, 0.82333333, 0.83      , 0.82333333, 0.82333333,\n",
       "        0.81866667, 0.82133333, 0.81866667]),\n",
       " 'split4_test_score': array([0.81133333, 0.82266667, 0.838     , 0.84066667, 0.84266667,\n",
       "        0.83866667, 0.842     , 0.83266667]),\n",
       " 'mean_test_score': array([0.794     , 0.8228    , 0.8316    , 0.83173333, 0.83546667,\n",
       "        0.83173333, 0.83373333, 0.82933333]),\n",
       " 'std_test_score': array([0.01598332, 0.00447015, 0.00463033, 0.00934856, 0.00873715,\n",
       "        0.00910775, 0.00900962, 0.00829458]),\n",
       " 'rank_test_score': array([8, 7, 5, 3, 1, 3, 2, 6], dtype=int32),\n",
       " 'split0_train_score': array([1.        , 0.86383333, 0.85916667, 0.84683333, 0.84633333,\n",
       "        0.838     , 0.84133333, 0.837     ]),\n",
       " 'split1_train_score': array([1.        , 0.86283333, 0.86233333, 0.84866667, 0.84916667,\n",
       "        0.83933333, 0.84283333, 0.839     ]),\n",
       " 'split2_train_score': array([1.        , 0.87066667, 0.86483333, 0.851     , 0.8515    ,\n",
       "        0.8455    , 0.846     , 0.83933333]),\n",
       " 'split3_train_score': array([1.        , 0.87016667, 0.86333333, 0.85216667, 0.85183333,\n",
       "        0.84466667, 0.844     , 0.8405    ]),\n",
       " 'split4_train_score': array([1.        , 0.86533333, 0.86483333, 0.848     , 0.84816667,\n",
       "        0.83866667, 0.8375    , 0.83633333]),\n",
       " 'mean_train_score': array([1.        , 0.86656667, 0.8629    , 0.84933333, 0.8494    ,\n",
       "        0.84123333, 0.84233333, 0.83843333]),\n",
       " 'std_train_score': array([0.        , 0.00324654, 0.00209391, 0.00196356, 0.00206452,\n",
       "        0.00318259, 0.00285774, 0.00154056])}"
      ]
     },
     "execution_count": 23,
     "metadata": {},
     "output_type": "execute_result"
    }
   ],
   "source": [
    "# show all results\n",
    "search_knn.cv_results_"
   ]
  },
  {
   "cell_type": "code",
   "execution_count": 24,
   "metadata": {},
   "outputs": [
    {
     "name": "stdout",
     "output_type": "stream",
     "text": [
      "Best score: 0.796\n",
      "Best parameters set:\n",
      "clf__n_neighbors:22\n"
     ]
    }
   ],
   "source": [
    "# knn without StandardScaler\n",
    "pipe_knn_2 = Pipeline([\n",
    "                    ('clf', KNeighborsClassifier()) \n",
    "                    ])\n",
    "\n",
    "parameters = {\n",
    "    'clf__n_neighbors': np.arange(1,25,3)\n",
    "}\n",
    "\n",
    "search_knn_2 = GridSearchCV(estimator = pipe_knn_2,\n",
    "                         param_grid = parameters,\n",
    "                         cv = 5, # cross-validation generator\n",
    "                         return_train_score = True)\n",
    "search_knn_2.fit(X_train, y_train)\n",
    "\n",
    "print_grid_search_metrics(search_knn_2)"
   ]
  },
  {
   "cell_type": "markdown",
   "metadata": {},
   "source": [
    "### - compare knn with StandardScaler & without StandardScaler"
   ]
  },
  {
   "cell_type": "code",
   "execution_count": 25,
   "metadata": {},
   "outputs": [],
   "source": [
    "def plt_knn(result_1, result_2, clf__n_neighbors, name_list):\n",
    "    fig, ax = plt.subplots()\n",
    "    \n",
    "    ax.plot(clf__n_neighbors, result_1, '-o')\n",
    "    ax.plot(clf__n_neighbors, result_2, '-*')\n",
    "    \n",
    "    plt.legend(name_list, bbox_to_anchor=(1.05, 1), loc='upper left', fontsize=10)\n",
    "    \n",
    "    ax.set_title(\"KNN Grid Search Scores\", fontsize=20, fontweight='bold')\n",
    "    ax.set_xlabel('clf__n_neighbors', fontsize=16)\n",
    "    ax.set_ylabel('CV Average Score', fontsize=16)\n",
    "    ax.grid('on')"
   ]
  },
  {
   "cell_type": "code",
   "execution_count": 26,
   "metadata": {},
   "outputs": [],
   "source": [
    "result_1 = search_knn.cv_results_['mean_test_score']\n",
    "result_2 = search_knn_2.cv_results_['mean_test_score']\n",
    "clf__n_neighbors = np.arange(1,25,3)\n",
    "name_list = ['with StandardScaler', 'without StandardScaler']"
   ]
  },
  {
   "cell_type": "code",
   "execution_count": 27,
   "metadata": {},
   "outputs": [
    {
     "data": {
      "image/png": "[encoded data removed]",
      "text/plain": [
       "<Figure size 432x288 with 1 Axes>"
      ]
     },
     "metadata": {
      "needs_background": "light"
     },
     "output_type": "display_data"
    }
   ],
   "source": [
    "plt_knn(result_1, result_2, clf__n_neighbors, name_list)"
   ]
  },
  {
   "cell_type": "code",
   "execution_count": 28,
   "metadata": {},
   "outputs": [],
   "source": [
    "# save best KNN model\n",
    "best_KNN_model = search_knn.best_estimator_"
   ]
  },
  {
   "cell_type": "markdown",
   "metadata": {},
   "source": [
    "### 3.2.3 Random Forest"
   ]
  },
  {
   "cell_type": "code",
   "execution_count": 29,
   "metadata": {},
   "outputs": [
    {
     "name": "stdout",
     "output_type": "stream",
     "text": [
      "Test accuracy: 0.861\n"
     ]
    }
   ],
   "source": [
    "from sklearn.ensemble import RandomForestClassifier\n",
    "# use pipline to train KNeighbors model\n",
    "pipe_rf = Pipeline([('sc', StandardScaler()),\n",
    "                    ('clf', RandomForestClassifier())\n",
    "                    ])\n",
    "pipe_rf.fit(X_train, y_train)\n",
    "print('Test accuracy: %.3f' % pipe_rf.score(X_test, y_test))"
   ]
  },
  {
   "cell_type": "code",
   "execution_count": 30,
   "metadata": {},
   "outputs": [
    {
     "data": {
      "text/plain": [
       "dict_keys(['memory', 'steps', 'verbose', 'sc', 'clf', 'sc__copy', 'sc__with_mean', 'sc__with_std', 'clf__bootstrap', 'clf__ccp_alpha', 'clf__class_weight', 'clf__criterion', 'clf__max_depth', 'clf__max_features', 'clf__max_leaf_nodes', 'clf__max_samples', 'clf__min_impurity_decrease', 'clf__min_impurity_split', 'clf__min_samples_leaf', 'clf__min_samples_split', 'clf__min_weight_fraction_leaf', 'clf__n_estimators', 'clf__n_jobs', 'clf__oob_score', 'clf__random_state', 'clf__verbose', 'clf__warm_start'])"
      ]
     },
     "execution_count": 30,
     "metadata": {},
     "output_type": "execute_result"
    }
   ],
   "source": [
    "# check details of RF params.keys\n",
    "pipe_rf.get_params().keys()"
   ]
  },
  {
   "cell_type": "markdown",
   "metadata": {},
   "source": [
    "### - Tuning the hyper-parameters of Random Forest\n",
    "#### - [sklearn.ensemble.RandomForestClassifier](https://scikit-learn.org/stable/modules/generated/sklearn.ensemble.RandomForestClassifier.html#sklearn.ensemble.RandomForestClassifier)"
   ]
  },
  {
   "cell_type": "code",
   "execution_count": 31,
   "metadata": {},
   "outputs": [
    {
     "name": "stdout",
     "output_type": "stream",
     "text": [
      "Best score: 0.8670666666666665\n",
      "Best parameters set:\n",
      "clf__n_estimators:140\n"
     ]
    }
   ],
   "source": [
    "# RF with StandardScaler\n",
    "pipe_rf = Pipeline([('sc', StandardScaler()),\n",
    "                    ('clf', RandomForestClassifier(random_state=1)) \n",
    "                    ])\n",
    "\n",
    "parameters = {\n",
    "    'clf__n_estimators': np.arange(10,150,10)\n",
    "}\n",
    "\n",
    "search_rf = GridSearchCV(estimator = pipe_rf,\n",
    "                         param_grid = parameters,\n",
    "                         cv = 5, # cross-validation generator\n",
    "                         return_train_score = True)\n",
    "search_rf.fit(X_train, y_train)\n",
    "\n",
    "print_grid_search_metrics(search_rf)"
   ]
  },
  {
   "cell_type": "code",
   "execution_count": 32,
   "metadata": {},
   "outputs": [
    {
     "name": "stdout",
     "output_type": "stream",
     "text": [
      "search_rf mean_test_score:\n",
      " [0.8532     0.8612     0.86186667 0.86346667 0.8636     0.8648\n",
      " 0.86506667 0.864      0.8648     0.8656     0.86506667 0.86586667\n",
      " 0.86653333 0.86706667]\n"
     ]
    }
   ],
   "source": [
    "print(\"search_rf mean_test_score:\\n\", search_rf.cv_results_['mean_test_score'])"
   ]
  },
  {
   "cell_type": "code",
   "execution_count": 33,
   "metadata": {},
   "outputs": [
    {
     "name": "stdout",
     "output_type": "stream",
     "text": [
      "Best score: 0.8669333333333334\n",
      "Best parameters set:\n",
      "clf__n_estimators:140\n"
     ]
    }
   ],
   "source": [
    "# RF without StandardScaler\n",
    "pipe_rf_2 = Pipeline([\n",
    "                    ('clf', RandomForestClassifier(random_state=1)) \n",
    "                    ])\n",
    "\n",
    "parameters = {\n",
    "    'clf__n_estimators': np.arange(10,150,10)\n",
    "}\n",
    "\n",
    "search_rf_2 = GridSearchCV(estimator = pipe_rf_2,\n",
    "                         param_grid = parameters,\n",
    "                         cv = 5, # cross-validation generator\n",
    "                         return_train_score = True)\n",
    "search_rf_2.fit(X_train, y_train)\n",
    "\n",
    "print_grid_search_metrics(search_rf_2)"
   ]
  },
  {
   "cell_type": "code",
   "execution_count": 34,
   "metadata": {},
   "outputs": [
    {
     "name": "stdout",
     "output_type": "stream",
     "text": [
      "search_rf without standard mean_test_score:\n",
      " [0.85293333 0.86093333 0.8616     0.86293333 0.86346667 0.86493333\n",
      " 0.86533333 0.86426667 0.86506667 0.86573333 0.86506667 0.86626667\n",
      " 0.8668     0.86693333]\n"
     ]
    }
   ],
   "source": [
    "print(\"search_rf without standard mean_test_score:\\n\", search_rf_2.cv_results_['mean_test_score'])"
   ]
  },
  {
   "cell_type": "markdown",
   "metadata": {},
   "source": [
    "### - compare knn with StandardScaler & without StandardScaler"
   ]
  },
  {
   "cell_type": "code",
   "execution_count": 35,
   "metadata": {},
   "outputs": [],
   "source": [
    "def plt_rf(result_1, result_2, clf__n_estimators, name_list):\n",
    "    fig, ax = plt.subplots()\n",
    "    \n",
    "    ax.plot(clf__n_estimators, result_1, '-o')\n",
    "    ax.plot(clf__n_estimators, result_2, '-*')\n",
    "    \n",
    "    plt.legend(name_list, bbox_to_anchor=(1.05, 1), loc='upper left', fontsize=10)\n",
    "    \n",
    "    ax.set_title(\"RF Grid Search Scores\", fontsize=20, fontweight='bold')\n",
    "    ax.set_xlabel('clf__n_estimators', fontsize=16)\n",
    "    ax.set_ylabel('CV Average Score', fontsize=16)\n",
    "    ax.grid('on')"
   ]
  },
  {
   "cell_type": "code",
   "execution_count": 36,
   "metadata": {},
   "outputs": [],
   "source": [
    "result_1 = search_rf.cv_results_['mean_test_score']\n",
    "result_2 = search_rf_2.cv_results_['mean_test_score']\n",
    "clf__n_estimators = np.arange(10,150,10)\n",
    "name_list = ['with StandardScaler', 'without StandardScaler']"
   ]
  },
  {
   "cell_type": "code",
   "execution_count": 37,
   "metadata": {},
   "outputs": [
    {
     "data": {
      "image/png": "[encoded data removed]",
      "text/plain": [
       "<Figure size 432x288 with 1 Axes>"
      ]
     },
     "metadata": {
      "needs_background": "light"
     },
     "output_type": "display_data"
    }
   ],
   "source": [
    "plt_rf(result_1, result_2, clf__n_estimators, name_list)"
   ]
  },
  {
   "cell_type": "code",
   "execution_count": 38,
   "metadata": {},
   "outputs": [],
   "source": [
    "# save best RF model\n",
    "best_RF_model = search_rf.best_estimator_"
   ]
  },
  {
   "cell_type": "markdown",
   "metadata": {},
   "source": [
    "### 3.4  Model Evaluation - Confusion Matrix (Precision, Recall, Accuracy)\n",
    "\n",
    "#### - [ Confusion Matrix ](https://scikit-learn.org/stable/auto_examples/model_selection/plot_confusion_matrix.html#sphx-glr-auto-examples-model-selection-plot-confusion-matrix-py)\n",
    "\n",
    "#### - [ ConfusionMatrixDisplay, RocCurveDisplay, and PrecisionRecallDisplay ](https://scikit-learn.org/stable/auto_examples/miscellaneous/plot_display_object_visualization.html#sphx-glr-auto-examples-miscellaneous-plot-display-object-visualization-py)"
   ]
  },
  {
   "cell_type": "code",
   "execution_count": 39,
   "metadata": {},
   "outputs": [],
   "source": [
    "from sklearn.metrics import confusion_matrix\n",
    "from sklearn.metrics import ConfusionMatrixDisplay\n",
    "from sklearn.metrics import plot_confusion_matrix"
   ]
  },
  {
   "cell_type": "markdown",
   "metadata": {},
   "source": [
    "### 3.4.1 plot confusion matrix"
   ]
  },
  {
   "cell_type": "code",
   "execution_count": 40,
   "metadata": {},
   "outputs": [
    {
     "data": {
      "image/png": "[encoded data removed]",
      "text/plain": [
       "<Figure size 432x288 with 2 Axes>"
      ]
     },
     "metadata": {
      "needs_background": "light"
     },
     "output_type": "display_data"
    }
   ],
   "source": [
    "# LR\n",
    "y_pred_lr = best_LR_model.predict(X_test)\n",
    "\n",
    "cm_lr = confusion_matrix(y_test, y_pred_lr)\n",
    "cm_lr_display = ConfusionMatrixDisplay(cm_lr).plot()\n",
    "_ = cm_lr_display.ax_.set_title(\"LR ConfusionMatrix\", fontweight='bold', fontsize=15)"
   ]
  },
  {
   "cell_type": "code",
   "execution_count": 41,
   "metadata": {},
   "outputs": [
    {
     "data": {
      "image/png": "[encoded data removed]",
      "text/plain": [
       "<Figure size 432x288 with 2 Axes>"
      ]
     },
     "metadata": {
      "needs_background": "light"
     },
     "output_type": "display_data"
    }
   ],
   "source": [
    "# KNN\n",
    "y_pred_knn = best_KNN_model.predict(X_test)\n",
    "\n",
    "cm_knn = confusion_matrix(y_test, y_pred_knn)\n",
    "cm_knn_display = ConfusionMatrixDisplay(cm_knn).plot()\n",
    "_ = cm_knn_display.ax_.set_title(\"KNN ConfusionMatrix\", fontweight='bold', fontsize=15)"
   ]
  },
  {
   "cell_type": "code",
   "execution_count": 42,
   "metadata": {},
   "outputs": [
    {
     "data": {
      "image/png": "[encoded data removed]",
      "text/plain": [
       "<Figure size 432x288 with 2 Axes>"
      ]
     },
     "metadata": {
      "needs_background": "light"
     },
     "output_type": "display_data"
    }
   ],
   "source": [
    "# RF\n",
    "y_pred_rf = best_RF_model.predict(X_test)\n",
    "\n",
    "cm_rf = confusion_matrix(y_test, y_pred_rf)\n",
    "cm_rf_display = ConfusionMatrixDisplay(cm_rf).plot()\n",
    "_ = cm_rf_display.ax_.set_title(\"RF ConfusionMatrix\", fontweight='bold', fontsize=15)\n"
   ]
  },
  {
   "cell_type": "markdown",
   "metadata": {},
   "source": [
    "### 3.4.2 plot roc-curve\n",
    "\n",
    "#### - WAY 1 to plot ROC\n",
    "#### - [Drawing multiple ROC-Curves in a single plot](https://abdalimran.github.io/2019-06-01/Drawing-multiple-ROC-Curves-in-a-single-plot)"
   ]
  },
  {
   "cell_type": "code",
   "execution_count": 43,
   "metadata": {},
   "outputs": [],
   "source": [
    "from sklearn.metrics import roc_curve, roc_auc_score\n",
    "# Instantiate the classfiers and make a list\n",
    "classifiers = ['best_LR_model',\n",
    "              'best_KNN_model',\n",
    "              'best_RF_model']\n",
    "\n",
    "# Define a result table as a DataFrame\n",
    "result_table = pd.DataFrame(columns=['classifiers', 'fpr','tpr','auc'])\n",
    "\n",
    "for cls in classifiers:\n",
    "    yproba = eval(cls).predict_proba(X_test)[::,1]\n",
    "    fpr, tpr, _ = roc_curve(y_test,  yproba)\n",
    "    auc = roc_auc_score(y_test, yproba)\n",
    "    \n",
    "    result_table = result_table.append({'classifiers':cls,\n",
    "                                        'fpr':fpr, \n",
    "                                        'tpr':tpr, \n",
    "                                        'auc':auc}, ignore_index=True)\n",
    "    \n",
    "# Set name of the classifiers as index labels\n",
    "result_table.set_index('classifiers', inplace=True)"
   ]
  },
  {
   "cell_type": "code",
   "execution_count": 44,
   "metadata": {},
   "outputs": [
    {
     "data": {
      "text/html": [
       "<div>\n",
       "<style scoped>\n",
       "    .dataframe tbody tr th:only-of-type {\n",
       "        vertical-align: middle;\n",
       "    }\n",
       "\n",
       "    .dataframe tbody tr th {\n",
       "        vertical-align: top;\n",
       "    }\n",
       "\n",
       "    .dataframe thead th {\n",
       "        text-align: right;\n",
       "    }\n",
       "</style>\n",
       "<table border=\"1\" class=\"dataframe\">\n",
       "  <thead>\n",
       "    <tr style=\"text-align: right;\">\n",
       "      <th></th>\n",
       "      <th>fpr</th>\n",
       "      <th>tpr</th>\n",
       "      <th>auc</th>\n",
       "    </tr>\n",
       "    <tr>\n",
       "      <th>classifiers</th>\n",
       "      <th></th>\n",
       "      <th></th>\n",
       "      <th></th>\n",
       "    </tr>\n",
       "  </thead>\n",
       "  <tbody>\n",
       "    <tr>\n",
       "      <th>best_LR_model</th>\n",
       "      <td>[0.0, 0.0, 0.0020090406830738324, 0.0020090406...</td>\n",
       "      <td>[0.0, 0.0019646365422396855, 0.001964636542239...</td>\n",
       "      <td>0.772246</td>\n",
       "    </tr>\n",
       "    <tr>\n",
       "      <th>best_KNN_model</th>\n",
       "      <td>[0.0, 0.0, 0.0010045203415369162, 0.0020090406...</td>\n",
       "      <td>[0.0, 0.011787819253438114, 0.0333988212180746...</td>\n",
       "      <td>0.794872</td>\n",
       "    </tr>\n",
       "    <tr>\n",
       "      <th>best_RF_model</th>\n",
       "      <td>[0.0, 0.0, 0.0, 0.0, 0.0, 0.0, 0.0, 0.0, 0.0, ...</td>\n",
       "      <td>[0.0, 0.0019646365422396855, 0.005893909626719...</td>\n",
       "      <td>0.839215</td>\n",
       "    </tr>\n",
       "  </tbody>\n",
       "</table>\n",
       "</div>"
      ],
      "text/plain": [
       "                                                              fpr  \\\n",
       "classifiers                                                         \n",
       "best_LR_model   [0.0, 0.0, 0.0020090406830738324, 0.0020090406...   \n",
       "best_KNN_model  [0.0, 0.0, 0.0010045203415369162, 0.0020090406...   \n",
       "best_RF_model   [0.0, 0.0, 0.0, 0.0, 0.0, 0.0, 0.0, 0.0, 0.0, ...   \n",
       "\n",
       "                                                              tpr       auc  \n",
       "classifiers                                                                  \n",
       "best_LR_model   [0.0, 0.0019646365422396855, 0.001964636542239...  0.772246  \n",
       "best_KNN_model  [0.0, 0.011787819253438114, 0.0333988212180746...  0.794872  \n",
       "best_RF_model   [0.0, 0.0019646365422396855, 0.005893909626719...  0.839215  "
      ]
     },
     "execution_count": 44,
     "metadata": {},
     "output_type": "execute_result"
    }
   ],
   "source": [
    "result_table.head()"
   ]
  },
  {
   "cell_type": "code",
   "execution_count": 45,
   "metadata": {},
   "outputs": [
    {
     "data": {
      "image/png": "[encoded data removed]",
      "text/plain": [
       "<Figure size 576x432 with 1 Axes>"
      ]
     },
     "metadata": {
      "needs_background": "light"
     },
     "output_type": "display_data"
    }
   ],
   "source": [
    "fig = plt.figure(figsize=(8,6))\n",
    "\n",
    "for i in result_table.index:\n",
    "    plt.plot(result_table.loc[i]['fpr'], \n",
    "             result_table.loc[i]['tpr'], \n",
    "             label=\"{}, AUC={:.3f}\".format(i, result_table.loc[i]['auc']))\n",
    "    \n",
    "plt.plot([0,1], [0,1], color='black', linestyle='--')\n",
    "\n",
    "plt.xticks(np.arange(0.0, 1.1, step=0.2))\n",
    "plt.xlabel(\"Flase Positive Rate\", fontsize=15)\n",
    "\n",
    "plt.yticks(np.arange(0.0, 1.1, step=0.2))\n",
    "plt.ylabel(\"True Positive Rate\", fontsize=15)\n",
    "\n",
    "plt.title('ROC Curve Analysis', fontweight='bold', fontsize=15)\n",
    "plt.legend(prop={'size':13}, loc='lower right')\n",
    "\n",
    "plt.grid('on')\n",
    "\n",
    "plt.show()"
   ]
  },
  {
   "cell_type": "markdown",
   "metadata": {},
   "source": [
    "#### - WAY 2 to plot ROC\n",
    "#### - [show the different ROC curves for all the models](https://scikit-learn.org/stable/auto_examples/ensemble/plot_feature_transformation.html#sphx-glr-auto-examples-ensemble-plot-feature-transformation-py)"
   ]
  },
  {
   "cell_type": "code",
   "execution_count": 47,
   "metadata": {
    "scrolled": false
   },
   "outputs": [
    {
     "data": {
      "image/png": "[encoded data removed]",
      "text/plain": [
       "<Figure size 576x432 with 1 Axes>"
      ]
     },
     "metadata": {
      "needs_background": "light"
     },
     "output_type": "display_data"
    }
   ],
   "source": [
    "from sklearn.metrics import plot_roc_curve\n",
    "fig, ax = plt.subplots(figsize=(8,6))\n",
    "\n",
    "models = [\n",
    "   ('LR_model', best_LR_model),\n",
    "   ('KNN_model',best_KNN_model),\n",
    "   ('RF_model',best_RF_model)\n",
    "]\n",
    "\n",
    "model_displays = {}\n",
    "for name, pipeline in models:\n",
    "    model_displays[name] = plot_roc_curve(\n",
    "        pipeline, X_test, y_test, ax=ax, name=name)\n",
    "ax.plot([0,1], [0,1], color='black', linestyle='--')\n",
    "ax.set_title('ROC Curve Analysis', fontweight='bold', fontsize=15)\n",
    "ax.grid('on')\n",
    "\n"
   ]
  }
 ],
 "metadata": {
  "kernelspec": {
   "display_name": "Python 3",
   "language": "python",
   "name": "python3"
  },
  "language_info": {
   "codemirror_mode": {
    "name": "ipython",
    "version": 3
   },
   "file_extension": ".py",
   "mimetype": "text/x-python",
   "name": "python",
   "nbconvert_exporter": "python",
   "pygments_lexer": "ipython3",
   "version": "3.8.5"
  }
 },
 "nbformat": 4,
 "nbformat_minor": 2
}
